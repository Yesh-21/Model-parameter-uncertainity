{
 "cells": [
  {
   "cell_type": "code",
   "execution_count": 1,
   "id": "8d0f4d49",
   "metadata": {},
   "outputs": [
    {
     "name": "stdout",
     "output_type": "stream",
     "text": [
      "Requirement already satisfied: nnfs in c:\\users\\yesh\\anaconda3\\lib\\site-packages (0.5.1)\n",
      "Requirement already satisfied: numpy in c:\\users\\yesh\\anaconda3\\lib\\site-packages (from nnfs) (1.21.5)\n",
      "Note: you may need to restart the kernel to use updated packages.\n"
     ]
    }
   ],
   "source": [
    "pip install nnfs\n"
   ]
  },
  {
   "cell_type": "code",
   "execution_count": 2,
   "id": "ecca5920",
   "metadata": {},
   "outputs": [],
   "source": [
    "import numpy as np \n",
    "from nnfs.datasets import spiral_data"
   ]
  },
  {
   "cell_type": "code",
   "execution_count": 3,
   "id": "802db5a8",
   "metadata": {},
   "outputs": [
    {
     "data": {
      "text/plain": [
       "8.8"
      ]
     },
     "execution_count": 3,
     "metadata": {},
     "output_type": "execute_result"
    }
   ],
   "source": [
    "# ouput of a single neuron \n",
    "inputs = [1.1,2.1,3.4]\n",
    "weights = [1,-1,2]\n",
    "bias = 3 \n",
    "\n",
    "output = inputs[0]*weights[0] + inputs[1]*weights[1] +inputs[2]*weights[2] + bias\n",
    "\n",
    "output"
   ]
  },
  {
   "cell_type": "code",
   "execution_count": 4,
   "id": "7af64f89",
   "metadata": {},
   "outputs": [
    {
     "name": "stdout",
     "output_type": "stream",
     "text": [
      "[8.8, 28.32]\n"
     ]
    }
   ],
   "source": [
    "# Coding a layer \n",
    "# 3 inputs from the previous layer\n",
    "# 2 outputs \n",
    "# dimW = 2x3\n",
    "inputs = [1.1,2.1,3.4]\n",
    "weights1 = [1,-1,2]\n",
    "bias1 = 3 \n",
    "output1 = inputs[0]*weights1[0] + inputs[1]*weights1[1] +inputs[2]*weights1[2] + bias1\n",
    "\n",
    "inputs = [1.1,2.1,3.4]\n",
    "weights2 = [1.2,5,2.5]\n",
    "bias2 = 8 \n",
    "output2 = inputs[0]*weights2[0] + inputs[1]*weights2[1] +inputs[2]*weights2[2] + bias2\n",
    "\n",
    "print([output1 , output2])\n",
    "\n"
   ]
  },
  {
   "cell_type": "code",
   "execution_count": 5,
   "id": "bf8e9521",
   "metadata": {},
   "outputs": [],
   "source": [
    "# The weights matrix \n",
    "#Matrix notation\n",
    "W  = [[1,-1,2],\n",
    "     [1.2,5,2.5],\n",
    "     [4,.05,-2.05]]\n",
    "B = [3,8,-5]"
   ]
  },
  {
   "cell_type": "code",
   "execution_count": 6,
   "id": "1b4bde2b",
   "metadata": {},
   "outputs": [
    {
     "data": {
      "text/plain": [
       "(3, 3)"
      ]
     },
     "execution_count": 6,
     "metadata": {},
     "output_type": "execute_result"
    }
   ],
   "source": [
    "W = np.array(W)\n",
    "W.shape"
   ]
  },
  {
   "cell_type": "code",
   "execution_count": 7,
   "id": "28785f91",
   "metadata": {},
   "outputs": [
    {
     "data": {
      "text/plain": [
       "((3,), (3,))"
      ]
     },
     "execution_count": 7,
     "metadata": {},
     "output_type": "execute_result"
    }
   ],
   "source": [
    "B = np.array(B)\n",
    "inputs = np.array(inputs )\n",
    "B.shape, inputs.shape"
   ]
  },
  {
   "cell_type": "code",
   "execution_count": 8,
   "id": "1fef301a",
   "metadata": {},
   "outputs": [
    {
     "data": {
      "text/plain": [
       "array([ 8.8  , 28.32 , -7.465])"
      ]
     },
     "execution_count": 8,
     "metadata": {},
     "output_type": "execute_result"
    }
   ],
   "source": [
    "output = np.matmul(W,inputs) + B\n",
    "output"
   ]
  },
  {
   "cell_type": "code",
   "execution_count": 9,
   "id": "8e085499",
   "metadata": {},
   "outputs": [
    {
     "data": {
      "text/plain": [
       "array([[-3.2000e+00,  7.1800e+00,  1.0500e+01,  1.4140e+01,  1.6000e+01],\n",
       "       [ 4.4620e+01,  1.0000e-02,  3.3480e+01,  2.7345e+01,  1.0820e+01],\n",
       "       [-5.0650e+00,  1.8080e+00, -6.5000e-01,  3.3065e+00,  1.4375e+01]])"
      ]
     },
     "execution_count": 9,
     "metadata": {},
     "output_type": "execute_result"
    }
   ],
   "source": [
    "# Multiple layer of nueron\n",
    "# multiple inputs\n",
    "\n",
    "inputs = [[0.1,7.1,.4],\n",
    "         [1.8,-2.1,.14],\n",
    "         [2.9,2.6,3.6],\n",
    "         [4.1,0.9,3.97],\n",
    "         [6.1,-2.1,2.4]]\n",
    "inputs = np.transpose(inputs)\n",
    "\n",
    "B = [[3,8,-5],\n",
    "    [3,8,-5],\n",
    "    [3,8,-5],\n",
    "    [3,8,-5],\n",
    "    [3,8,-5]]\n",
    "B = np.transpose(B)\n",
    "\n",
    "\n",
    "output = np.matmul(W,inputs) + B\n",
    "output"
   ]
  },
  {
   "cell_type": "code",
   "execution_count": 10,
   "id": "27b4f7f5",
   "metadata": {},
   "outputs": [
    {
     "data": {
      "text/plain": [
       "array([[-3.2000e+00,  4.4620e+01, -5.0650e+00],\n",
       "       [ 7.1800e+00,  1.0000e-02,  1.8080e+00],\n",
       "       [ 1.0500e+01,  3.3480e+01, -6.5000e-01],\n",
       "       [ 1.4140e+01,  2.7345e+01,  3.3065e+00],\n",
       "       [ 1.6000e+01,  1.0820e+01,  1.4375e+01]])"
      ]
     },
     "execution_count": 10,
     "metadata": {},
     "output_type": "execute_result"
    }
   ],
   "source": [
    "# Another way of doing \n",
    "inputs = [[0.1,7.1,.4],\n",
    "         [1.8,-2.1,.14],\n",
    "         [2.9,2.6,3.6],\n",
    "         [4.1,0.9,3.97],\n",
    "         [6.1,-2.1,2.4]]\n",
    "W_T = np.transpose(W)\n",
    "\n",
    "B = [[3,8,-5],\n",
    "    [3,8,-5],\n",
    "    [3,8,-5],\n",
    "    [3,8,-5],\n",
    "    [3,8,-5]]\n",
    "\n",
    "\n",
    "\n",
    "output = np.matmul(inputs,W_T) + B\n",
    "output\n",
    "#Outputs here are represented horizontally "
   ]
  },
  {
   "cell_type": "code",
   "execution_count": 11,
   "id": "a7f9bb1c",
   "metadata": {},
   "outputs": [
    {
     "data": {
      "text/plain": [
       "(array([[-3.2000e+00,  4.4620e+01, -5.0650e+00],\n",
       "        [ 7.1800e+00,  1.0000e-02,  1.8080e+00],\n",
       "        [ 1.0500e+01,  3.3480e+01, -6.5000e-01],\n",
       "        [ 1.4140e+01,  2.7345e+01,  3.3065e+00],\n",
       "        [ 1.6000e+01,  1.0820e+01,  1.4375e+01]]),\n",
       " array([[  54.97    , -130.7175  ,   35.37325 ],\n",
       "        [   0.766   ,   22.509   ,  -25.9334  ],\n",
       "        [  40.48    ,  -64.125   ,  -12.1275  ],\n",
       "        [  27.888   ,  -28.75175 ,  -32.041825],\n",
       "        [ -10.03    ,   54.4625  ,  -67.45875 ]]))"
      ]
     },
     "execution_count": 11,
     "metadata": {},
     "output_type": "execute_result"
    }
   ],
   "source": [
    "#2 layers \n",
    "X = [[0.1,7.1,.4],\n",
    "         [1.8,-2.1,.14],\n",
    "         [2.9,2.6,3.6],\n",
    "         [4.1,0.9,3.97],\n",
    "         [6.1,-2.1,2.4]]\n",
    "#Hidden layer 1\n",
    "#weights of layer 1 \n",
    "\n",
    "W_1 = [[1,-1,2],\n",
    "     [1.2,5,2.5],\n",
    "     [4,.05,-2.05]]\n",
    "\n",
    "W_T_1 = np.transpose(W)\n",
    "\n",
    "#Bias for layer 1 \n",
    "\n",
    "B_1 = [[3,8,-5],\n",
    "    [3,8,-5],\n",
    "    [3,8,-5],\n",
    "    [3,8,-5],\n",
    "    [3,8,-5]]\n",
    "\n",
    "layer1_output = np.matmul(X,W_T_1) + B_1\n",
    "\n",
    "#Now Layer 1 output becomes input for the next layer \n",
    "\n",
    "#Hidden layer 2\n",
    "\n",
    "#weights of layer 2\n",
    "\n",
    "W_2 = [[0.4,1,-2],\n",
    "     [1.7,-2.5,3.5],\n",
    "     [-2.4,.5,-2.05]]\n",
    "W_T_2 = np.transpose(W_2)\n",
    "\n",
    "#Bias of layer 2 \n",
    "\n",
    "B_2 = [1.5,4,-5]\n",
    "\n",
    "\n",
    "layer2_output = np.matmul(layer1_output,W_T_2) + B_2\n",
    "\n",
    "layer1_output,layer2_output"
   ]
  },
  {
   "cell_type": "code",
   "execution_count": 12,
   "id": "fb8b57f7",
   "metadata": {},
   "outputs": [],
   "source": [
    "# Creating a class of layers\n",
    "\n",
    "class Layer_dense:\n",
    "    def __init__(self,n_inputs,n_neurons):\n",
    "        self.weights = np.random.randn(n_inputs,n_neurons)\n",
    "        self.biases = np.random.rand(1,n_neurons)\n",
    "    def forward(self,inputs):\n",
    "        self.output = np.matmul(inputs,self.weights) + self.biases\n"
   ]
  },
  {
   "cell_type": "code",
   "execution_count": 13,
   "id": "837e3e97",
   "metadata": {},
   "outputs": [],
   "source": [
    "#Activation function \n",
    "#sigmoid\n",
    "class Activation_sig:\n",
    "    def forward(self,inputs):\n",
    "        self.output = 1/(1 + np.exp(-inputs))\n",
    "\n",
    "#classifier\n",
    "\n",
    "class Classifier:\n",
    "    def forward(self,inputs):        \n",
    "        self.output = np.around(inputs)"
   ]
  },
  {
   "cell_type": "code",
   "execution_count": 14,
   "id": "cf62fb40",
   "metadata": {},
   "outputs": [],
   "source": [
    "#creating data\n",
    "X,y = spiral_data(100,2)"
   ]
  },
  {
   "cell_type": "code",
   "execution_count": 15,
   "id": "5e1cb3e7",
   "metadata": {},
   "outputs": [
    {
     "data": {
      "text/plain": [
       "(200, 2)"
      ]
     },
     "execution_count": 15,
     "metadata": {},
     "output_type": "execute_result"
    }
   ],
   "source": [
    "X.shape"
   ]
  },
  {
   "cell_type": "code",
   "execution_count": 16,
   "id": "cf7c26c5",
   "metadata": {},
   "outputs": [],
   "source": [
    "layer1 = Layer_dense(2,5)\n",
    "activation1 = Activation_sig()\n",
    "\n",
    "#Creating output for the first layer\n",
    "layer1.forward(X)\n",
    "layer1.output\n",
    "\n",
    "#Applying activation function and  output for 2nd layer\n",
    "activation1.forward(layer1.output)\n",
    "activation1.output\n",
    "\n",
    "layer2 = Layer_dense(5,4)\n",
    "activation2 = Activation_sig()\n",
    "\n",
    "#Creating output for the first layer\n",
    "layer2.forward(activation1.output)\n",
    "(layer2.output)\n",
    "\n",
    "#Applying activation function and  output for 2nd layer\n",
    "activation2.forward(layer2.output)\n",
    "((activation2.output))\n",
    "\n",
    "#Final layer\n",
    "\n",
    "layer_final = Layer_dense(4,1)\n",
    "layer_final.forward(activation2.output)\n",
    "\n",
    "#squishing data between 0 and 1 \n",
    "\n",
    "activation3 = Activation_sig()\n",
    "activation3.forward(layer_final.output)\n",
    "\n",
    "#classifying for the final output \n",
    "\n",
    "Classify  = Classifier()\n",
    "Classify.forward(activation3.output)\n",
    "y_pred = Classify.output\n"
   ]
  },
  {
   "cell_type": "code",
   "execution_count": 17,
   "id": "01958e5f",
   "metadata": {},
   "outputs": [],
   "source": [
    "## Loss function (logistic regression) \n",
    "\n",
    "class cost:\n",
    "    def loss(self,y_predicted,y_actual):\n",
    "        self.output = np.mean(-y_actual*np.log(y_predicted)-(1-y_actual)*np.log(1 - y_predicted))\n",
    "    "
   ]
  },
  {
   "cell_type": "code",
   "execution_count": 18,
   "id": "ac599b22",
   "metadata": {},
   "outputs": [
    {
     "name": "stderr",
     "output_type": "stream",
     "text": [
      "C:\\Users\\Yesh\\AppData\\Local\\Temp\\ipykernel_26336\\1715291824.py:5: RuntimeWarning: divide by zero encountered in log\n",
      "  self.output = np.mean(-y_actual*np.log(y_predicted)-(1-y_actual)*np.log(1 - y_predicted))\n",
      "C:\\Users\\Yesh\\AppData\\Local\\Temp\\ipykernel_26336\\1715291824.py:5: RuntimeWarning: invalid value encountered in multiply\n",
      "  self.output = np.mean(-y_actual*np.log(y_predicted)-(1-y_actual)*np.log(1 - y_predicted))\n"
     ]
    },
    {
     "data": {
      "text/plain": [
       "nan"
      ]
     },
     "execution_count": 18,
     "metadata": {},
     "output_type": "execute_result"
    }
   ],
   "source": [
    "Cost = cost()\n",
    "Cost.loss(y_pred,y)\n",
    "Cost.output"
   ]
  },
  {
   "cell_type": "markdown",
   "id": "7322f3d1",
   "metadata": {},
   "source": [
    "### BACKPROPOGATION "
   ]
  },
  {
   "cell_type": "code",
   "execution_count": null,
   "id": "0ae120da",
   "metadata": {},
   "outputs": [],
   "source": [
    " "
   ]
  }
 ],
 "metadata": {
  "kernelspec": {
   "display_name": "Python 3 (ipykernel)",
   "language": "python",
   "name": "python3"
  },
  "language_info": {
   "codemirror_mode": {
    "name": "ipython",
    "version": 3
   },
   "file_extension": ".py",
   "mimetype": "text/x-python",
   "name": "python",
   "nbconvert_exporter": "python",
   "pygments_lexer": "ipython3",
   "version": "3.9.12"
  }
 },
 "nbformat": 4,
 "nbformat_minor": 5
}
